{
  "nbformat": 4,
  "nbformat_minor": 0,
  "metadata": {
    "colab": {
      "provenance": []
    },
    "kernelspec": {
      "name": "python3",
      "display_name": "Python 3"
    },
    "language_info": {
      "name": "python"
    }
  },
  "cells": [
    {
      "cell_type": "markdown",
      "source": [
        "## Tutorial Code\n",
        "https://www.tensorflow.org/tfmodels/nlp/fine_tune_bert"
      ],
      "metadata": {
        "id": "4yB9-jC8vGYR"
      }
    },
    {
      "cell_type": "markdown",
      "source": [
        "* Huh_1: refer to the Solve **Glue tasks** using BERT tutorial.\n",
        "* Aha_1: a way to mensure if the model has some language skill.s\n",
        "* Gotcha: GLUE (General Language Understanding Evaluation).\n",
        "\n",
        "\n",
        "Why are we using open-cv if  you want to work with text\n",
        "\n",
        "![image.png](data:image/png;base64,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)"
      ],
      "metadata": {
        "id": "gKh9jyLssdns"
      }
    },
    {
      "cell_type": "markdown",
      "source": [
        "## Code"
      ],
      "metadata": {
        "id": "v3aXs4ebtypR"
      }
    },
    {
      "cell_type": "code",
      "source": [
        "%%capture\n",
        "## !pip install -q opencv-python # i don't understand why i need this\n",
        "!pip install -q -U \"tensorflow-text==2.11.*\"\n",
        "!pip install -q tf-models-official"
      ],
      "metadata": {
        "id": "hD27de4LuH0u"
      },
      "execution_count": 1,
      "outputs": []
    },
    {
      "cell_type": "code",
      "execution_count": 2,
      "metadata": {
        "id": "1GtyGXsosEhB"
      },
      "outputs": [],
      "source": [
        "import os\n",
        "\n",
        "import numpy as np\n",
        "import matplotlib.pyplot as plt\n",
        "\n",
        "import tensorflow as tf\n",
        "import tensorflow_models as tfm\n",
        "import tensorflow_hub as hub\n",
        "import tensorflow_datasets as tfds\n",
        "tfds.disable_progress_bar()"
      ]
    },
    {
      "cell_type": "markdown",
      "source": [
        "The following directory contains the BERT model's configuration, vocabulary, and a pre-trained checkpoint used in this tutorial:\n",
        "\n"
      ],
      "metadata": {
        "id": "sPeS-IuhucEV"
      }
    },
    {
      "cell_type": "code",
      "source": [
        "gs_folder_bert = \"gs://cloud-tpu-checkpoints/bert/v3/uncased_L-12_H-768_A-12\"\n",
        "tf.io.gfile.listdir(gs_folder_bert)"
      ],
      "metadata": {
        "colab": {
          "base_uri": "https://localhost:8080/"
        },
        "id": "vc1d1d18ucTL",
        "outputId": "33a3d0c4-d7c4-4152-be99-cb416ab78c10"
      },
      "execution_count": 3,
      "outputs": [
        {
          "output_type": "execute_result",
          "data": {
            "text/plain": [
              "['bert_config.json',\n",
              " 'bert_model.ckpt.data-00000-of-00001',\n",
              " 'bert_model.ckpt.index',\n",
              " 'vocab.txt']"
            ]
          },
          "metadata": {},
          "execution_count": 3
        }
      ]
    },
    {
      "cell_type": "markdown",
      "source": [
        "## Load and preprocess the dataset\n",
        "\n",
        "* Question_1: What's CUDA.\n",
        "* Aha_1: CUDA is a way to make gpu do more things than just graphics."
      ],
      "metadata": {
        "id": "SkShWxOrugW4"
      }
    },
    {
      "cell_type": "code",
      "source": [
        "batch_size=32\n",
        "glue, info = tfds.load('glue/mrpc', # it means we have two datasets?\n",
        "                       with_info=True,\n",
        "                       batch_size=32)\n",
        "\n",
        "## aha: not exaclty, i think it's a specification."
      ],
      "metadata": {
        "id": "RV-gKAYXugmy"
      },
      "execution_count": 4,
      "outputs": []
    },
    {
      "cell_type": "code",
      "source": [
        "glue"
      ],
      "metadata": {
        "colab": {
          "base_uri": "https://localhost:8080/"
        },
        "id": "yMv1VnHWvxBy",
        "outputId": "57b49601-bab8-4cd7-fc74-b93fda08c27f"
      },
      "execution_count": 5,
      "outputs": [
        {
          "output_type": "execute_result",
          "data": {
            "text/plain": [
              "{'train': <_PrefetchDataset element_spec={'idx': TensorSpec(shape=(None,), dtype=tf.int32, name=None), 'label': TensorSpec(shape=(None,), dtype=tf.int64, name=None), 'sentence1': TensorSpec(shape=(None,), dtype=tf.string, name=None), 'sentence2': TensorSpec(shape=(None,), dtype=tf.string, name=None)}>,\n",
              " 'validation': <_PrefetchDataset element_spec={'idx': TensorSpec(shape=(None,), dtype=tf.int32, name=None), 'label': TensorSpec(shape=(None,), dtype=tf.int64, name=None), 'sentence1': TensorSpec(shape=(None,), dtype=tf.string, name=None), 'sentence2': TensorSpec(shape=(None,), dtype=tf.string, name=None)}>,\n",
              " 'test': <_PrefetchDataset element_spec={'idx': TensorSpec(shape=(None,), dtype=tf.int32, name=None), 'label': TensorSpec(shape=(None,), dtype=tf.int64, name=None), 'sentence1': TensorSpec(shape=(None,), dtype=tf.string, name=None), 'sentence2': TensorSpec(shape=(None,), dtype=tf.string, name=None)}>}"
            ]
          },
          "metadata": {},
          "execution_count": 5
        }
      ]
    },
    {
      "cell_type": "code",
      "source": [
        "info.features"
      ],
      "metadata": {
        "colab": {
          "base_uri": "https://localhost:8080/"
        },
        "id": "jZV7r1UNvzkG",
        "outputId": "b03ebbe0-3ff0-453f-d24c-54eb20db31ec"
      },
      "execution_count": 6,
      "outputs": [
        {
          "output_type": "execute_result",
          "data": {
            "text/plain": [
              "FeaturesDict({\n",
              "    'idx': int32,\n",
              "    'label': ClassLabel(shape=(), dtype=int64, num_classes=2),\n",
              "    'sentence1': Text(shape=(), dtype=string),\n",
              "    'sentence2': Text(shape=(), dtype=string),\n",
              "})"
            ]
          },
          "metadata": {},
          "execution_count": 6
        }
      ]
    },
    {
      "cell_type": "code",
      "source": [
        "info.features['label'].names"
      ],
      "metadata": {
        "colab": {
          "base_uri": "https://localhost:8080/"
        },
        "id": "0Xf4xaxhv0qg",
        "outputId": "4e066b0e-c7d0-4182-a9f2-844569106e17"
      },
      "execution_count": 7,
      "outputs": [
        {
          "output_type": "execute_result",
          "data": {
            "text/plain": [
              "['not_equivalent', 'equivalent']"
            ]
          },
          "metadata": {},
          "execution_count": 7
        }
      ]
    },
    {
      "cell_type": "markdown",
      "source": [
        "Here is one example from the training set:\n",
        "\n"
      ],
      "metadata": {
        "id": "Ce8xHlDgv8xp"
      }
    },
    {
      "cell_type": "code",
      "source": [
        "example_batch = next(iter(glue['train']))\n",
        "\n",
        "for key, value in example_batch.items():\n",
        "  print(f\"{key:9s}: {value[0].numpy()}\")"
      ],
      "metadata": {
        "colab": {
          "base_uri": "https://localhost:8080/"
        },
        "id": "imF7P02HwBMQ",
        "outputId": "f44ec32d-6c0c-46c7-b12d-3f4727bc3fae"
      },
      "execution_count": 8,
      "outputs": [
        {
          "output_type": "stream",
          "name": "stdout",
          "text": [
            "idx      : 1680\n",
            "label    : 0\n",
            "sentence1: b'The identical rovers will act as robotic geologists , searching for evidence of past water .'\n",
            "sentence2: b'The rovers act as robotic geologists , moving on six wheels .'\n"
          ]
        }
      ]
    },
    {
      "cell_type": "markdown",
      "source": [
        "## Preprocess the data\n",
        "\n",
        "Question_1: Why different models have different tokenizers?\n",
        "Aha_1: Models Like Bert Treat Text Different, So that's why we need a specific tokenizer."
      ],
      "metadata": {
        "id": "p2S2AiXrxNeL"
      }
    },
    {
      "cell_type": "code",
      "source": [
        "tokenizer = tfm.nlp.layers.FastWordpieceBertTokenizer(\n",
        "    vocab_file=os.path.join(gs_folder_bert, \"vocab.txt\"),\n",
        "    lower_case=True)"
      ],
      "metadata": {
        "id": "ySbrRQZNxOBu"
      },
      "execution_count": 9,
      "outputs": []
    },
    {
      "cell_type": "markdown",
      "source": [
        "Let's tokenize a test sentence:\n",
        "\n"
      ],
      "metadata": {
        "id": "iP1BQVZSzBgI"
      }
    },
    {
      "cell_type": "code",
      "source": [
        "tokens = tokenizer(tf.constant([\"Hello TensorFlow!\"]))\n",
        "tokens"
      ],
      "metadata": {
        "colab": {
          "base_uri": "https://localhost:8080/"
        },
        "id": "IpfGsNaKzBsa",
        "outputId": "d550b354-61c6-4067-c943-6cb23a569aeb"
      },
      "execution_count": 10,
      "outputs": [
        {
          "output_type": "execute_result",
          "data": {
            "text/plain": [
              "<tf.RaggedTensor [[[7592], [23435, 12314], [999]]]>"
            ]
          },
          "metadata": {},
          "execution_count": 10
        }
      ]
    },
    {
      "cell_type": "markdown",
      "source": [
        "Learn more about the tokenization process in the [Subword tokenization](https://www.tensorflow.org/text/guide/subwords_tokenizer) and [Tokenizing with TensorFlow Text](https://www.tensorflow.org/text/guide/tokenizers) guides.\n",
        "\n",
        "\n",
        "**Gotcha**: [CLS] \"This is a classification problem\" token, and each sentence should end with a [SEP] \"Separator\" token."
      ],
      "metadata": {
        "id": "UyqhR5y_zGIv"
      }
    },
    {
      "cell_type": "code",
      "source": [
        "special = tokenizer.get_special_tokens_dict()\n",
        "special"
      ],
      "metadata": {
        "colab": {
          "base_uri": "https://localhost:8080/"
        },
        "id": "alC2duuAzGWZ",
        "outputId": "3c4d1bff-f5d7-4aa6-c33b-2a0dd4136b1d"
      },
      "execution_count": 11,
      "outputs": [
        {
          "output_type": "execute_result",
          "data": {
            "text/plain": [
              "{'vocab_size': 30522,\n",
              " 'start_of_sequence_id': 101,\n",
              " 'end_of_segment_id': 102,\n",
              " 'padding_id': 0,\n",
              " 'mask_id': 103}"
            ]
          },
          "metadata": {},
          "execution_count": 11
        }
      ]
    },
    {
      "cell_type": "code",
      "source": [
        "max_seq_length = 128\n",
        "\n",
        "packer = tfm.nlp.layers.BertPackInputs(\n",
        "    seq_length=max_seq_length,\n",
        "    special_tokens_dict = tokenizer.get_special_tokens_dict())"
      ],
      "metadata": {
        "id": "ZnH0XZMd0I9Q"
      },
      "execution_count": 12,
      "outputs": []
    },
    {
      "cell_type": "markdown",
      "source": [
        "The packer takes a list of tokenized sentences as input. For example:"
      ],
      "metadata": {
        "id": "ehjWb2Vz0K-j"
      }
    },
    {
      "cell_type": "code",
      "source": [
        "sentences1 = [\"hello tensorflow\"]\n",
        "tok1 = tokenizer(sentences1)\n",
        "tok1"
      ],
      "metadata": {
        "colab": {
          "base_uri": "https://localhost:8080/"
        },
        "id": "zM196cej0Lkh",
        "outputId": "6352ae9a-bb41-43b4-ee9d-078d9e2d0a71"
      },
      "execution_count": 13,
      "outputs": [
        {
          "output_type": "execute_result",
          "data": {
            "text/plain": [
              "<tf.RaggedTensor [[[7592], [23435, 12314]]]>"
            ]
          },
          "metadata": {},
          "execution_count": 13
        }
      ]
    },
    {
      "cell_type": "code",
      "source": [
        "sentences2 = [\"goodbye tensorflow\"]\n",
        "tok2 = tokenizer(sentences2)\n",
        "tok2"
      ],
      "metadata": {
        "colab": {
          "base_uri": "https://localhost:8080/"
        },
        "id": "NrI1Ffop0Rcl",
        "outputId": "20365dec-6405-4fd2-c88f-6be01a73a335"
      },
      "execution_count": 14,
      "outputs": [
        {
          "output_type": "execute_result",
          "data": {
            "text/plain": [
              "<tf.RaggedTensor [[[9119], [23435, 12314]]]>"
            ]
          },
          "metadata": {},
          "execution_count": 14
        }
      ]
    },
    {
      "cell_type": "code",
      "source": [
        "packed = packer([tok1, tok2])\n",
        "\n",
        "for key, tensor in packed.items():\n",
        "  print(f\"{key:15s}: {tensor[:, :12]}\")"
      ],
      "metadata": {
        "colab": {
          "base_uri": "https://localhost:8080/"
        },
        "id": "l6zLcU4q0VcM",
        "outputId": "d0d7e1f7-dedc-4204-e564-67616a903691"
      },
      "execution_count": 15,
      "outputs": [
        {
          "output_type": "stream",
          "name": "stdout",
          "text": [
            "input_word_ids : [[  101  7592 23435 12314   102  9119 23435 12314   102     0     0     0]]\n",
            "input_mask     : [[1 1 1 1 1 1 1 1 1 0 0 0]]\n",
            "input_type_ids : [[0 0 0 0 0 1 1 1 1 0 0 0]]\n"
          ]
        }
      ]
    },
    {
      "cell_type": "markdown",
      "source": [
        "## Put it all together\n",
        "Combine these two parts into a keras.layers.Layer that can be attached to your model:"
      ],
      "metadata": {
        "id": "dDXJCACg0YOy"
      }
    },
    {
      "cell_type": "code",
      "source": [
        "class BertInputProcessor(tf.keras.layers.Layer):\n",
        "  def __init__(self, tokenizer, packer):\n",
        "    super().__init__()\n",
        "    self.tokenizer = tokenizer\n",
        "    self.packer = packer\n",
        "\n",
        "  def call(self, inputs):\n",
        "    tok1 = self.tokenizer(inputs['sentence1'])\n",
        "    tok2 = self.tokenizer(inputs['sentence2'])\n",
        "\n",
        "    packed = self.packer([tok1, tok2])\n",
        "\n",
        "    if 'label' in inputs:\n",
        "      return packed, inputs['label']\n",
        "    else:\n",
        "      return packed"
      ],
      "metadata": {
        "id": "HWnJqqck0Ysw"
      },
      "execution_count": 16,
      "outputs": []
    },
    {
      "cell_type": "markdown",
      "source": [
        "But for now just apply it to the dataset using Dataset.map, since the dataset you loaded from TFDS is a tf.data.Dataset object:\n",
        "\n"
      ],
      "metadata": {
        "id": "AQ27-LSF0dX0"
      }
    },
    {
      "cell_type": "code",
      "source": [
        "bert_inputs_processor = BertInputProcessor(tokenizer, packer)"
      ],
      "metadata": {
        "id": "wWWu3LOY0dyP"
      },
      "execution_count": 17,
      "outputs": []
    },
    {
      "cell_type": "code",
      "source": [
        "glue_train = glue['train'].map(bert_inputs_processor).prefetch(1)"
      ],
      "metadata": {
        "id": "IrCOySmZ0f60"
      },
      "execution_count": 18,
      "outputs": []
    },
    {
      "cell_type": "code",
      "source": [
        "example_inputs, example_labels = next(iter(glue_train))"
      ],
      "metadata": {
        "id": "c3gci2CG0gnM"
      },
      "execution_count": 19,
      "outputs": []
    },
    {
      "cell_type": "code",
      "source": [
        "example_inputs"
      ],
      "metadata": {
        "colab": {
          "base_uri": "https://localhost:8080/"
        },
        "id": "DgFb2Al10m7t",
        "outputId": "0ec78a0d-dcb1-4fc9-a71d-c5f0f7efc2ed"
      },
      "execution_count": 20,
      "outputs": [
        {
          "output_type": "execute_result",
          "data": {
            "text/plain": [
              "{'input_word_ids': <tf.Tensor: shape=(32, 128), dtype=int32, numpy=\n",
              " array([[ 101, 1996, 7235, ...,    0,    0,    0],\n",
              "        [ 101, 2625, 2084, ...,    0,    0,    0],\n",
              "        [ 101, 6804, 1011, ...,    0,    0,    0],\n",
              "        ...,\n",
              "        [ 101, 2021, 2049, ...,    0,    0,    0],\n",
              "        [ 101, 2274, 2062, ...,    0,    0,    0],\n",
              "        [ 101, 2043, 1037, ...,    0,    0,    0]], dtype=int32)>,\n",
              " 'input_mask': <tf.Tensor: shape=(32, 128), dtype=int32, numpy=\n",
              " array([[1, 1, 1, ..., 0, 0, 0],\n",
              "        [1, 1, 1, ..., 0, 0, 0],\n",
              "        [1, 1, 1, ..., 0, 0, 0],\n",
              "        ...,\n",
              "        [1, 1, 1, ..., 0, 0, 0],\n",
              "        [1, 1, 1, ..., 0, 0, 0],\n",
              "        [1, 1, 1, ..., 0, 0, 0]], dtype=int32)>,\n",
              " 'input_type_ids': <tf.Tensor: shape=(32, 128), dtype=int32, numpy=\n",
              " array([[0, 0, 0, ..., 0, 0, 0],\n",
              "        [0, 0, 0, ..., 0, 0, 0],\n",
              "        [0, 0, 0, ..., 0, 0, 0],\n",
              "        ...,\n",
              "        [0, 0, 0, ..., 0, 0, 0],\n",
              "        [0, 0, 0, ..., 0, 0, 0],\n",
              "        [0, 0, 0, ..., 0, 0, 0]], dtype=int32)>}"
            ]
          },
          "metadata": {},
          "execution_count": 20
        }
      ]
    },
    {
      "cell_type": "code",
      "source": [
        "example_inputs"
      ],
      "metadata": {
        "colab": {
          "base_uri": "https://localhost:8080/"
        },
        "id": "w2aMshEb0oHR",
        "outputId": "dd0ea484-b37d-4f32-8499-2f1369be55a5"
      },
      "execution_count": 21,
      "outputs": [
        {
          "output_type": "execute_result",
          "data": {
            "text/plain": [
              "{'input_word_ids': <tf.Tensor: shape=(32, 128), dtype=int32, numpy=\n",
              " array([[ 101, 1996, 7235, ...,    0,    0,    0],\n",
              "        [ 101, 2625, 2084, ...,    0,    0,    0],\n",
              "        [ 101, 6804, 1011, ...,    0,    0,    0],\n",
              "        ...,\n",
              "        [ 101, 2021, 2049, ...,    0,    0,    0],\n",
              "        [ 101, 2274, 2062, ...,    0,    0,    0],\n",
              "        [ 101, 2043, 1037, ...,    0,    0,    0]], dtype=int32)>,\n",
              " 'input_mask': <tf.Tensor: shape=(32, 128), dtype=int32, numpy=\n",
              " array([[1, 1, 1, ..., 0, 0, 0],\n",
              "        [1, 1, 1, ..., 0, 0, 0],\n",
              "        [1, 1, 1, ..., 0, 0, 0],\n",
              "        ...,\n",
              "        [1, 1, 1, ..., 0, 0, 0],\n",
              "        [1, 1, 1, ..., 0, 0, 0],\n",
              "        [1, 1, 1, ..., 0, 0, 0]], dtype=int32)>,\n",
              " 'input_type_ids': <tf.Tensor: shape=(32, 128), dtype=int32, numpy=\n",
              " array([[0, 0, 0, ..., 0, 0, 0],\n",
              "        [0, 0, 0, ..., 0, 0, 0],\n",
              "        [0, 0, 0, ..., 0, 0, 0],\n",
              "        ...,\n",
              "        [0, 0, 0, ..., 0, 0, 0],\n",
              "        [0, 0, 0, ..., 0, 0, 0],\n",
              "        [0, 0, 0, ..., 0, 0, 0]], dtype=int32)>}"
            ]
          },
          "metadata": {},
          "execution_count": 21
        }
      ]
    },
    {
      "cell_type": "code",
      "source": [
        "example_labels"
      ],
      "metadata": {
        "colab": {
          "base_uri": "https://localhost:8080/"
        },
        "id": "dXLEOy3i0urc",
        "outputId": "6b422b9b-204c-4731-b2f6-efb0ac515c19"
      },
      "execution_count": 22,
      "outputs": [
        {
          "output_type": "execute_result",
          "data": {
            "text/plain": [
              "<tf.Tensor: shape=(32,), dtype=int64, numpy=\n",
              "array([0, 0, 1, 1, 0, 0, 1, 1, 1, 1, 1, 1, 0, 1, 1, 0, 1, 1, 1, 0, 1, 1,\n",
              "       1, 1, 1, 1, 1, 0, 0, 1, 0, 1])>"
            ]
          },
          "metadata": {},
          "execution_count": 22
        }
      ]
    },
    {
      "cell_type": "code",
      "source": [
        "for key, value in example_inputs.items():\n",
        "  print(f'{key:15s} shape: {value.shape}')\n",
        "\n",
        "print(f'{\"labels\":15s} shape: {example_labels.shape}')"
      ],
      "metadata": {
        "colab": {
          "base_uri": "https://localhost:8080/"
        },
        "id": "aK4eAzgS0z6k",
        "outputId": "631feb2d-695b-430d-9d9c-7d1ca2b6df56"
      },
      "execution_count": 23,
      "outputs": [
        {
          "output_type": "stream",
          "name": "stdout",
          "text": [
            "input_word_ids  shape: (32, 128)\n",
            "input_mask      shape: (32, 128)\n",
            "input_type_ids  shape: (32, 128)\n",
            "labels          shape: (32,)\n"
          ]
        }
      ]
    },
    {
      "cell_type": "code",
      "source": [
        "plt.pcolormesh(example_inputs['input_word_ids'])"
      ],
      "metadata": {
        "colab": {
          "base_uri": "https://localhost:8080/"
        },
        "id": "qXpmWWOK025E",
        "outputId": "62d09e32-a3ee-4441-e3ac-263719d587e4"
      },
      "execution_count": 24,
      "outputs": [
        {
          "output_type": "execute_result",
          "data": {
            "text/plain": [
              "<matplotlib.collections.QuadMesh at 0x7d87e0042a90>"
            ]
          },
          "metadata": {},
          "execution_count": 24
        }
      ]
    },
    {
      "cell_type": "markdown",
      "source": [
        "The mask allows the model to cleanly differentiate between the content and the padding. The mask has the same shape as the input_word_ids, and contains a 1 anywhere the input_word_ids is not padding."
      ],
      "metadata": {
        "id": "1HTBUYp_07cs"
      }
    },
    {
      "cell_type": "code",
      "source": [
        "plt.pcolormesh(example_inputs['input_mask'])"
      ],
      "metadata": {
        "colab": {
          "base_uri": "https://localhost:8080/"
        },
        "id": "MrXMbuOg05is",
        "outputId": "e8968c9b-dd6d-40b7-b945-d6a919480ddf"
      },
      "execution_count": 25,
      "outputs": [
        {
          "output_type": "execute_result",
          "data": {
            "text/plain": [
              "<matplotlib.collections.QuadMesh at 0x7d87d9b90590>"
            ]
          },
          "metadata": {},
          "execution_count": 25
        }
      ]
    },
    {
      "cell_type": "code",
      "source": [
        "plt.pcolormesh(example_inputs['input_type_ids'])"
      ],
      "metadata": {
        "colab": {
          "base_uri": "https://localhost:8080/"
        },
        "id": "unNyzK5B1Av7",
        "outputId": "b5213786-2d42-401c-82bd-8f5ebbda7b38"
      },
      "execution_count": 26,
      "outputs": [
        {
          "output_type": "execute_result",
          "data": {
            "text/plain": [
              "<matplotlib.collections.QuadMesh at 0x7d87d9c2ab50>"
            ]
          },
          "metadata": {},
          "execution_count": 26
        }
      ]
    },
    {
      "cell_type": "code",
      "source": [
        "glue_validation = glue['validation'].map(bert_inputs_processor).prefetch(1)\n",
        "glue_test = glue['test'].map(bert_inputs_processor).prefetch(1)"
      ],
      "metadata": {
        "id": "MeqifTIQ1DWr"
      },
      "execution_count": 27,
      "outputs": []
    },
    {
      "cell_type": "markdown",
      "source": [
        "I don't really understand the lines above, because i'm in a hurry. But I will not fall for perfection."
      ],
      "metadata": {
        "id": "WVLjsKl11Omj"
      }
    },
    {
      "cell_type": "markdown",
      "source": [
        "# Build the model\n",
        "The first step is to download the configuration file—config_dict—for the pre-trained BERT model:"
      ],
      "metadata": {
        "id": "6lD9_VRo1JLQ"
      }
    },
    {
      "cell_type": "code",
      "source": [
        "import json\n",
        "\n",
        "bert_config_file = os.path.join(gs_folder_bert, \"bert_config.json\")\n",
        "config_dict = json.loads(tf.io.gfile.GFile(bert_config_file).read())\n",
        "config_dict"
      ],
      "metadata": {
        "colab": {
          "base_uri": "https://localhost:8080/"
        },
        "id": "HfuKmBA71aAL",
        "outputId": "f8554e13-7994-451a-a4b8-a0e59ab468fa"
      },
      "execution_count": 28,
      "outputs": [
        {
          "output_type": "execute_result",
          "data": {
            "text/plain": [
              "{'attention_probs_dropout_prob': 0.1,\n",
              " 'hidden_act': 'gelu',\n",
              " 'hidden_dropout_prob': 0.1,\n",
              " 'hidden_size': 768,\n",
              " 'initializer_range': 0.02,\n",
              " 'intermediate_size': 3072,\n",
              " 'max_position_embeddings': 512,\n",
              " 'num_attention_heads': 12,\n",
              " 'num_hidden_layers': 12,\n",
              " 'type_vocab_size': 2,\n",
              " 'vocab_size': 30522}"
            ]
          },
          "metadata": {},
          "execution_count": 28
        }
      ]
    },
    {
      "cell_type": "code",
      "source": [
        "encoder_config = tfm.nlp.encoders.EncoderConfig({\n",
        "    'type':'bert',\n",
        "    'bert': config_dict\n",
        "})"
      ],
      "metadata": {
        "id": "GtZEIlzY1cZD"
      },
      "execution_count": 29,
      "outputs": []
    },
    {
      "cell_type": "code",
      "source": [
        "bert_encoder = tfm.nlp.encoders.build_encoder(encoder_config)\n",
        "bert_encoder"
      ],
      "metadata": {
        "colab": {
          "base_uri": "https://localhost:8080/"
        },
        "id": "jYjoHKG_1e_C",
        "outputId": "62810b5b-acf6-468b-c65f-dc6a62877e49"
      },
      "execution_count": 30,
      "outputs": [
        {
          "output_type": "execute_result",
          "data": {
            "text/plain": [
              "<official.nlp.modeling.networks.bert_encoder.BertEncoder at 0x7d87d9cf12d0>"
            ]
          },
          "metadata": {},
          "execution_count": 30
        }
      ]
    },
    {
      "cell_type": "code",
      "source": [
        "bert_classifier = tfm.nlp.models.BertClassifier(network=bert_encoder, num_classes=2)\n",
        "bert_classifier"
      ],
      "metadata": {
        "colab": {
          "base_uri": "https://localhost:8080/"
        },
        "id": "5gf-ZgnS1ihT",
        "outputId": "99b1f183-4473-41a5-ac34-ff19df745ffe"
      },
      "execution_count": 31,
      "outputs": [
        {
          "output_type": "execute_result",
          "data": {
            "text/plain": [
              "<official.nlp.modeling.models.bert_classifier.BertClassifier at 0x7d87e012fbd0>"
            ]
          },
          "metadata": {},
          "execution_count": 31
        }
      ]
    },
    {
      "cell_type": "code",
      "source": [
        "bert_classifier(\n",
        "    example_inputs, training=True).numpy()[:10]"
      ],
      "metadata": {
        "colab": {
          "base_uri": "https://localhost:8080/"
        },
        "id": "Qv9ITiQB1j8G",
        "outputId": "a2ac5645-9a6d-4c63-e7c2-b2ccd60b7f29"
      },
      "execution_count": 32,
      "outputs": [
        {
          "output_type": "execute_result",
          "data": {
            "text/plain": [
              "array([[-0.00327522, -0.30776227],\n",
              "       [ 0.1585139 ,  0.1802088 ],\n",
              "       [-0.09675384, -0.26571167],\n",
              "       [-0.27364063,  0.37604624],\n",
              "       [-0.76434755,  0.04572931],\n",
              "       [ 0.13050947, -0.08458461],\n",
              "       [-0.31338233,  0.01231264],\n",
              "       [-0.68182397,  0.35229772],\n",
              "       [-0.97618127, -0.51678395],\n",
              "       [ 0.031092  ,  0.35066283]], dtype=float32)"
            ]
          },
          "metadata": {},
          "execution_count": 32
        }
      ]
    },
    {
      "cell_type": "markdown",
      "source": [
        "The TransformerEncoder in the center of the classifier above is the bert_encoder.\n",
        "\n",
        "If you inspect the encoder, notice the stack of Transformer layers connected to those same three inputs:"
      ],
      "metadata": {
        "id": "T1dAaUQ11o8y"
      }
    },
    {
      "cell_type": "code",
      "source": [
        "tf.keras.utils.plot_model(bert_encoder, show_shapes=True, dpi=48) # why isn't showing the map?"
      ],
      "metadata": {
        "colab": {
          "base_uri": "https://localhost:8080/",
          "height": 45
        },
        "id": "q_RpBHfW1pYt",
        "outputId": "687da637-2fed-40d1-aec0-83a5905ee36a"
      },
      "execution_count": 33,
      "outputs": [
        {
          "output_type": "execute_result",
          "data": {
            "image/png": "[encoded data removed]",
            "text/plain": [
              "<IPython.core.display.Image object>"
            ]
          },
          "metadata": {},
          "execution_count": 33
        }
      ]
    },
    {
      "cell_type": "markdown",
      "source": [
        "![image.png](data:image/png;base64,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)"
      ],
      "metadata": {
        "id": "ei3JIl_k18qn"
      }
    },
    {
      "cell_type": "code",
      "source": [
        "checkpoint = tf.train.Checkpoint(encoder=bert_encoder)\n",
        "checkpoint.read(\n",
        "    os.path.join(gs_folder_bert, 'bert_model.ckpt')).assert_consumed()"
      ],
      "metadata": {
        "colab": {
          "base_uri": "https://localhost:8080/"
        },
        "id": "02Y1Z02x1xx7",
        "outputId": "4e3767c8-a98a-4aab-c3a1-00735490d851"
      },
      "execution_count": 34,
      "outputs": [
        {
          "output_type": "execute_result",
          "data": {
            "text/plain": [
              "<tensorflow.python.checkpoint.checkpoint.CheckpointLoadStatus at 0x7d87d8f10b50>"
            ]
          },
          "metadata": {},
          "execution_count": 34
        }
      ]
    },
    {
      "cell_type": "code",
      "source": [
        "checkpoint = tf.train.Checkpoint(encoder=bert_encoder)\n",
        "checkpoint.read(\n",
        "    os.path.join(gs_folder_bert, 'bert_model.ckpt')).assert_consumed()"
      ],
      "metadata": {
        "colab": {
          "base_uri": "https://localhost:8080/"
        },
        "id": "1LH2zV4W2Ebp",
        "outputId": "5c470969-eef4-4834-b481-ba7091097314"
      },
      "execution_count": 35,
      "outputs": [
        {
          "output_type": "execute_result",
          "data": {
            "text/plain": [
              "<tensorflow.python.checkpoint.checkpoint.CheckpointLoadStatus at 0x7d87d8f8a3d0>"
            ]
          },
          "metadata": {},
          "execution_count": 35
        }
      ]
    },
    {
      "cell_type": "markdown",
      "source": [
        "## Set up the optimizer\n",
        "\n",
        "BERT typically uses the Adam optimizer with weight decay—AdamW (tf.keras.optimizers.experimental.AdamW). It also employs a learning rate schedule that first warms up from 0 and then decays to 0:"
      ],
      "metadata": {
        "id": "HQVGGnUt2H4p"
      }
    },
    {
      "cell_type": "code",
      "source": [
        "# Set up epochs and steps\n",
        "epochs = 5\n",
        "batch_size = 32\n",
        "eval_batch_size = 32\n",
        "\n",
        "train_data_size = info.splits['train'].num_examples\n",
        "steps_per_epoch = int(train_data_size / batch_size)\n",
        "num_train_steps = steps_per_epoch * epochs\n",
        "warmup_steps = int(0.1 * num_train_steps)\n",
        "initial_learning_rate=2e-5"
      ],
      "metadata": {
        "id": "B78mIvVO2LRj"
      },
      "execution_count": 36,
      "outputs": []
    },
    {
      "cell_type": "code",
      "source": [
        "linear_decay = tf.keras.optimizers.schedules.PolynomialDecay(\n",
        "    initial_learning_rate=initial_learning_rate,\n",
        "    end_learning_rate=0,\n",
        "    decay_steps=num_train_steps)"
      ],
      "metadata": {
        "id": "me1CBUkA2OQy"
      },
      "execution_count": 37,
      "outputs": []
    },
    {
      "cell_type": "code",
      "source": [
        "warmup_schedule = tfm.optimization.lr_schedule.LinearWarmup(\n",
        "    warmup_learning_rate = 0,\n",
        "    after_warmup_lr_sched = linear_decay,\n",
        "    warmup_steps = warmup_steps\n",
        ")"
      ],
      "metadata": {
        "colab": {
          "base_uri": "https://localhost:8080/",
          "height": 373
        },
        "id": "qMyLkv3z2P1S",
        "outputId": "6e96bd2e-19cd-4ac1-a454-14270a727ae8"
      },
      "execution_count": 38,
      "outputs": [
        {
          "output_type": "error",
          "ename": "ValueError",
          "evalue": "Attempt to convert a value (<keras.src.optimizers.schedules.learning_rate_schedule.PolynomialDecay object at 0x7d87d94d0fd0>) with an unsupported type (<class 'keras.src.optimizers.schedules.learning_rate_schedule.PolynomialDecay'>) to a Tensor.",
          "traceback": [
            "\u001b[0;31m---------------------------------------------------------------------------\u001b[0m",
            "\u001b[0;31mValueError\u001b[0m                                Traceback (most recent call last)",
            "\u001b[0;32m<ipython-input-38-ff01f5b61baf>\u001b[0m in \u001b[0;36m<cell line: 0>\u001b[0;34m()\u001b[0m\n\u001b[0;32m----> 1\u001b[0;31m warmup_schedule = tfm.optimization.lr_schedule.LinearWarmup(\n\u001b[0m\u001b[1;32m      2\u001b[0m     \u001b[0mwarmup_learning_rate\u001b[0m \u001b[0;34m=\u001b[0m \u001b[0;36m0\u001b[0m\u001b[0;34m,\u001b[0m\u001b[0;34m\u001b[0m\u001b[0;34m\u001b[0m\u001b[0m\n\u001b[1;32m      3\u001b[0m     \u001b[0mafter_warmup_lr_sched\u001b[0m \u001b[0;34m=\u001b[0m \u001b[0mlinear_decay\u001b[0m\u001b[0;34m,\u001b[0m\u001b[0;34m\u001b[0m\u001b[0;34m\u001b[0m\u001b[0m\n\u001b[1;32m      4\u001b[0m     \u001b[0mwarmup_steps\u001b[0m \u001b[0;34m=\u001b[0m \u001b[0mwarmup_steps\u001b[0m\u001b[0;34m\u001b[0m\u001b[0;34m\u001b[0m\u001b[0m\n\u001b[1;32m      5\u001b[0m )\n",
            "\u001b[0;32m/usr/local/lib/python3.11/dist-packages/official/modeling/optimization/lr_schedule.py\u001b[0m in \u001b[0;36m__init__\u001b[0;34m(self, after_warmup_lr_sched, warmup_steps, warmup_learning_rate, name)\u001b[0m\n\u001b[1;32m    129\u001b[0m       \u001b[0mself\u001b[0m\u001b[0;34m.\u001b[0m\u001b[0m_final_warmup_lr\u001b[0m \u001b[0;34m=\u001b[0m \u001b[0mafter_warmup_lr_sched\u001b[0m\u001b[0;34m(\u001b[0m\u001b[0mwarmup_steps\u001b[0m\u001b[0;34m)\u001b[0m\u001b[0;34m\u001b[0m\u001b[0;34m\u001b[0m\u001b[0m\n\u001b[1;32m    130\u001b[0m     \u001b[0;32melse\u001b[0m\u001b[0;34m:\u001b[0m\u001b[0;34m\u001b[0m\u001b[0;34m\u001b[0m\u001b[0m\n\u001b[0;32m--> 131\u001b[0;31m       \u001b[0mself\u001b[0m\u001b[0;34m.\u001b[0m\u001b[0m_final_warmup_lr\u001b[0m \u001b[0;34m=\u001b[0m \u001b[0mtf\u001b[0m\u001b[0;34m.\u001b[0m\u001b[0mcast\u001b[0m\u001b[0;34m(\u001b[0m\u001b[0mafter_warmup_lr_sched\u001b[0m\u001b[0;34m,\u001b[0m \u001b[0mdtype\u001b[0m\u001b[0;34m=\u001b[0m\u001b[0mtf\u001b[0m\u001b[0;34m.\u001b[0m\u001b[0mfloat32\u001b[0m\u001b[0;34m)\u001b[0m\u001b[0;34m\u001b[0m\u001b[0;34m\u001b[0m\u001b[0m\n\u001b[0m\u001b[1;32m    132\u001b[0m \u001b[0;34m\u001b[0m\u001b[0m\n\u001b[1;32m    133\u001b[0m   \u001b[0;32mdef\u001b[0m \u001b[0m__call__\u001b[0m\u001b[0;34m(\u001b[0m\u001b[0mself\u001b[0m\u001b[0;34m,\u001b[0m \u001b[0mstep\u001b[0m\u001b[0;34m:\u001b[0m \u001b[0mint\u001b[0m\u001b[0;34m)\u001b[0m\u001b[0;34m:\u001b[0m\u001b[0;34m\u001b[0m\u001b[0;34m\u001b[0m\u001b[0m\n",
            "\u001b[0;32m/usr/local/lib/python3.11/dist-packages/tensorflow/python/util/traceback_utils.py\u001b[0m in \u001b[0;36merror_handler\u001b[0;34m(*args, **kwargs)\u001b[0m\n\u001b[1;32m    151\u001b[0m     \u001b[0;32mexcept\u001b[0m \u001b[0mException\u001b[0m \u001b[0;32mas\u001b[0m \u001b[0me\u001b[0m\u001b[0;34m:\u001b[0m\u001b[0;34m\u001b[0m\u001b[0;34m\u001b[0m\u001b[0m\n\u001b[1;32m    152\u001b[0m       \u001b[0mfiltered_tb\u001b[0m \u001b[0;34m=\u001b[0m \u001b[0m_process_traceback_frames\u001b[0m\u001b[0;34m(\u001b[0m\u001b[0me\u001b[0m\u001b[0;34m.\u001b[0m\u001b[0m__traceback__\u001b[0m\u001b[0;34m)\u001b[0m\u001b[0;34m\u001b[0m\u001b[0;34m\u001b[0m\u001b[0m\n\u001b[0;32m--> 153\u001b[0;31m       \u001b[0;32mraise\u001b[0m \u001b[0me\u001b[0m\u001b[0;34m.\u001b[0m\u001b[0mwith_traceback\u001b[0m\u001b[0;34m(\u001b[0m\u001b[0mfiltered_tb\u001b[0m\u001b[0;34m)\u001b[0m \u001b[0;32mfrom\u001b[0m \u001b[0;32mNone\u001b[0m\u001b[0;34m\u001b[0m\u001b[0;34m\u001b[0m\u001b[0m\n\u001b[0m\u001b[1;32m    154\u001b[0m     \u001b[0;32mfinally\u001b[0m\u001b[0;34m:\u001b[0m\u001b[0;34m\u001b[0m\u001b[0;34m\u001b[0m\u001b[0m\n\u001b[1;32m    155\u001b[0m       \u001b[0;32mdel\u001b[0m \u001b[0mfiltered_tb\u001b[0m\u001b[0;34m\u001b[0m\u001b[0;34m\u001b[0m\u001b[0m\n",
            "\u001b[0;32m/usr/local/lib/python3.11/dist-packages/tensorflow/python/framework/constant_op.py\u001b[0m in \u001b[0;36mconvert_to_eager_tensor\u001b[0;34m(value, ctx, dtype)\u001b[0m\n\u001b[1;32m    106\u001b[0m       \u001b[0mdtype\u001b[0m \u001b[0;34m=\u001b[0m \u001b[0mdtypes\u001b[0m\u001b[0;34m.\u001b[0m\u001b[0mas_dtype\u001b[0m\u001b[0;34m(\u001b[0m\u001b[0mdtype\u001b[0m\u001b[0;34m)\u001b[0m\u001b[0;34m.\u001b[0m\u001b[0mas_datatype_enum\u001b[0m\u001b[0;34m\u001b[0m\u001b[0;34m\u001b[0m\u001b[0m\n\u001b[1;32m    107\u001b[0m   \u001b[0mctx\u001b[0m\u001b[0;34m.\u001b[0m\u001b[0mensure_initialized\u001b[0m\u001b[0;34m(\u001b[0m\u001b[0;34m)\u001b[0m\u001b[0;34m\u001b[0m\u001b[0;34m\u001b[0m\u001b[0m\n\u001b[0;32m--> 108\u001b[0;31m   \u001b[0;32mreturn\u001b[0m \u001b[0mops\u001b[0m\u001b[0;34m.\u001b[0m\u001b[0mEagerTensor\u001b[0m\u001b[0;34m(\u001b[0m\u001b[0mvalue\u001b[0m\u001b[0;34m,\u001b[0m \u001b[0mctx\u001b[0m\u001b[0;34m.\u001b[0m\u001b[0mdevice_name\u001b[0m\u001b[0;34m,\u001b[0m \u001b[0mdtype\u001b[0m\u001b[0;34m)\u001b[0m\u001b[0;34m\u001b[0m\u001b[0;34m\u001b[0m\u001b[0m\n\u001b[0m\u001b[1;32m    109\u001b[0m \u001b[0;34m\u001b[0m\u001b[0m\n\u001b[1;32m    110\u001b[0m \u001b[0;34m\u001b[0m\u001b[0m\n",
            "\u001b[0;31mValueError\u001b[0m: Attempt to convert a value (<keras.src.optimizers.schedules.learning_rate_schedule.PolynomialDecay object at 0x7d87d94d0fd0>) with an unsupported type (<class 'keras.src.optimizers.schedules.learning_rate_schedule.PolynomialDecay'>) to a Tensor."
          ]
        }
      ]
    },
    {
      "cell_type": "code",
      "source": [
        "x = tf.linspace(0, num_train_steps, 1001)\n",
        "y = [warmup_schedule(xi) for xi in x]\n",
        "plt.plot(x,y)\n",
        "plt.xlabel('Train step')\n",
        "plt.ylabel('Learning rate')"
      ],
      "metadata": {
        "colab": {
          "base_uri": "https://localhost:8080/",
          "height": 332
        },
        "id": "hR_dvMCU2Xig",
        "outputId": "02cfc02b-1223-46a4-c18a-48731212cd61"
      },
      "execution_count": 39,
      "outputs": [
        {
          "output_type": "error",
          "ename": "NameError",
          "evalue": "name 'warmup_schedule' is not defined",
          "traceback": [
            "\u001b[0;31m---------------------------------------------------------------------------\u001b[0m",
            "\u001b[0;31mNameError\u001b[0m                                 Traceback (most recent call last)",
            "\u001b[0;32m<ipython-input-39-21d118d6245f>\u001b[0m in \u001b[0;36m<cell line: 0>\u001b[0;34m()\u001b[0m\n\u001b[1;32m      1\u001b[0m \u001b[0mx\u001b[0m \u001b[0;34m=\u001b[0m \u001b[0mtf\u001b[0m\u001b[0;34m.\u001b[0m\u001b[0mlinspace\u001b[0m\u001b[0;34m(\u001b[0m\u001b[0;36m0\u001b[0m\u001b[0;34m,\u001b[0m \u001b[0mnum_train_steps\u001b[0m\u001b[0;34m,\u001b[0m \u001b[0;36m1001\u001b[0m\u001b[0;34m)\u001b[0m\u001b[0;34m\u001b[0m\u001b[0;34m\u001b[0m\u001b[0m\n\u001b[0;32m----> 2\u001b[0;31m \u001b[0my\u001b[0m \u001b[0;34m=\u001b[0m \u001b[0;34m[\u001b[0m\u001b[0mwarmup_schedule\u001b[0m\u001b[0;34m(\u001b[0m\u001b[0mxi\u001b[0m\u001b[0;34m)\u001b[0m \u001b[0;32mfor\u001b[0m \u001b[0mxi\u001b[0m \u001b[0;32min\u001b[0m \u001b[0mx\u001b[0m\u001b[0;34m]\u001b[0m\u001b[0;34m\u001b[0m\u001b[0;34m\u001b[0m\u001b[0m\n\u001b[0m\u001b[1;32m      3\u001b[0m \u001b[0mplt\u001b[0m\u001b[0;34m.\u001b[0m\u001b[0mplot\u001b[0m\u001b[0;34m(\u001b[0m\u001b[0mx\u001b[0m\u001b[0;34m,\u001b[0m\u001b[0my\u001b[0m\u001b[0;34m)\u001b[0m\u001b[0;34m\u001b[0m\u001b[0;34m\u001b[0m\u001b[0m\n\u001b[1;32m      4\u001b[0m \u001b[0mplt\u001b[0m\u001b[0;34m.\u001b[0m\u001b[0mxlabel\u001b[0m\u001b[0;34m(\u001b[0m\u001b[0;34m'Train step'\u001b[0m\u001b[0;34m)\u001b[0m\u001b[0;34m\u001b[0m\u001b[0;34m\u001b[0m\u001b[0m\n\u001b[1;32m      5\u001b[0m \u001b[0mplt\u001b[0m\u001b[0;34m.\u001b[0m\u001b[0mylabel\u001b[0m\u001b[0;34m(\u001b[0m\u001b[0;34m'Learning rate'\u001b[0m\u001b[0;34m)\u001b[0m\u001b[0;34m\u001b[0m\u001b[0;34m\u001b[0m\u001b[0m\n",
            "\u001b[0;32m<ipython-input-39-21d118d6245f>\u001b[0m in \u001b[0;36m<listcomp>\u001b[0;34m(.0)\u001b[0m\n\u001b[1;32m      1\u001b[0m \u001b[0mx\u001b[0m \u001b[0;34m=\u001b[0m \u001b[0mtf\u001b[0m\u001b[0;34m.\u001b[0m\u001b[0mlinspace\u001b[0m\u001b[0;34m(\u001b[0m\u001b[0;36m0\u001b[0m\u001b[0;34m,\u001b[0m \u001b[0mnum_train_steps\u001b[0m\u001b[0;34m,\u001b[0m \u001b[0;36m1001\u001b[0m\u001b[0;34m)\u001b[0m\u001b[0;34m\u001b[0m\u001b[0;34m\u001b[0m\u001b[0m\n\u001b[0;32m----> 2\u001b[0;31m \u001b[0my\u001b[0m \u001b[0;34m=\u001b[0m \u001b[0;34m[\u001b[0m\u001b[0mwarmup_schedule\u001b[0m\u001b[0;34m(\u001b[0m\u001b[0mxi\u001b[0m\u001b[0;34m)\u001b[0m \u001b[0;32mfor\u001b[0m \u001b[0mxi\u001b[0m \u001b[0;32min\u001b[0m \u001b[0mx\u001b[0m\u001b[0;34m]\u001b[0m\u001b[0;34m\u001b[0m\u001b[0;34m\u001b[0m\u001b[0m\n\u001b[0m\u001b[1;32m      3\u001b[0m \u001b[0mplt\u001b[0m\u001b[0;34m.\u001b[0m\u001b[0mplot\u001b[0m\u001b[0;34m(\u001b[0m\u001b[0mx\u001b[0m\u001b[0;34m,\u001b[0m\u001b[0my\u001b[0m\u001b[0;34m)\u001b[0m\u001b[0;34m\u001b[0m\u001b[0;34m\u001b[0m\u001b[0m\n\u001b[1;32m      4\u001b[0m \u001b[0mplt\u001b[0m\u001b[0;34m.\u001b[0m\u001b[0mxlabel\u001b[0m\u001b[0;34m(\u001b[0m\u001b[0;34m'Train step'\u001b[0m\u001b[0;34m)\u001b[0m\u001b[0;34m\u001b[0m\u001b[0;34m\u001b[0m\u001b[0m\n\u001b[1;32m      5\u001b[0m \u001b[0mplt\u001b[0m\u001b[0;34m.\u001b[0m\u001b[0mylabel\u001b[0m\u001b[0;34m(\u001b[0m\u001b[0;34m'Learning rate'\u001b[0m\u001b[0;34m)\u001b[0m\u001b[0;34m\u001b[0m\u001b[0;34m\u001b[0m\u001b[0m\n",
            "\u001b[0;31mNameError\u001b[0m: name 'warmup_schedule' is not defined"
          ]
        }
      ]
    },
    {
      "cell_type": "markdown",
      "source": [
        "## Train"
      ],
      "metadata": {
        "id": "V0a9HRtT3B3J"
      }
    },
    {
      "cell_type": "code",
      "source": [
        "optimizer = tf.keras.optimizers.experimental.Adam(\n",
        "    learning_rate = warmup_schedule)"
      ],
      "metadata": {
        "colab": {
          "base_uri": "https://localhost:8080/",
          "height": 159
        },
        "id": "SSenFOcu3Hfv",
        "outputId": "ab9d9d8a-993b-4876-8129-b567b08d9e7f"
      },
      "execution_count": 41,
      "outputs": [
        {
          "output_type": "error",
          "ename": "AttributeError",
          "evalue": "module 'keras._tf_keras.keras.optimizers' has no attribute 'experimental'",
          "traceback": [
            "\u001b[0;31m---------------------------------------------------------------------------\u001b[0m",
            "\u001b[0;31mAttributeError\u001b[0m                            Traceback (most recent call last)",
            "\u001b[0;32m<ipython-input-41-b552341aa9c0>\u001b[0m in \u001b[0;36m<cell line: 0>\u001b[0;34m()\u001b[0m\n\u001b[0;32m----> 1\u001b[0;31m optimizer = tf.keras.optimizers.experimental.Adam(\n\u001b[0m\u001b[1;32m      2\u001b[0m     learning_rate = warmup_schedule)\n",
            "\u001b[0;31mAttributeError\u001b[0m: module 'keras._tf_keras.keras.optimizers' has no attribute 'experimental'"
          ]
        }
      ]
    },
    {
      "cell_type": "code",
      "source": [
        "metrics = [tf.keras.metrics.SparseCategoricalAccuracy('accuracy', dtype=tf.float32)]\n",
        "loss = tf.keras.losses.SparseCategoricalCrossentropy(from_logits=True)\n",
        "\n",
        "bert_classifier.compile(\n",
        "    optimizer=optimizer,\n",
        "    loss=loss,\n",
        "    metrics=metrics)"
      ],
      "metadata": {
        "colab": {
          "base_uri": "https://localhost:8080/",
          "height": 211
        },
        "id": "Lug7LWW13CaL",
        "outputId": "d36802bf-bd5b-4f8d-8557-796975a1b4c2"
      },
      "execution_count": 40,
      "outputs": [
        {
          "output_type": "error",
          "ename": "NameError",
          "evalue": "name 'optimizer' is not defined",
          "traceback": [
            "\u001b[0;31m---------------------------------------------------------------------------\u001b[0m",
            "\u001b[0;31mNameError\u001b[0m                                 Traceback (most recent call last)",
            "\u001b[0;32m<ipython-input-40-a37d498190f5>\u001b[0m in \u001b[0;36m<cell line: 0>\u001b[0;34m()\u001b[0m\n\u001b[1;32m      3\u001b[0m \u001b[0;34m\u001b[0m\u001b[0m\n\u001b[1;32m      4\u001b[0m bert_classifier.compile(\n\u001b[0;32m----> 5\u001b[0;31m     \u001b[0moptimizer\u001b[0m\u001b[0;34m=\u001b[0m\u001b[0moptimizer\u001b[0m\u001b[0;34m,\u001b[0m\u001b[0;34m\u001b[0m\u001b[0;34m\u001b[0m\u001b[0m\n\u001b[0m\u001b[1;32m      6\u001b[0m     \u001b[0mloss\u001b[0m\u001b[0;34m=\u001b[0m\u001b[0mloss\u001b[0m\u001b[0;34m,\u001b[0m\u001b[0;34m\u001b[0m\u001b[0;34m\u001b[0m\u001b[0m\n\u001b[1;32m      7\u001b[0m     metrics=metrics)\n",
            "\u001b[0;31mNameError\u001b[0m: name 'optimizer' is not defined"
          ]
        }
      ]
    },
    {
      "cell_type": "code",
      "source": [
        "bert_classifier.evaluate(glue_validation)"
      ],
      "metadata": {
        "colab": {
          "base_uri": "https://localhost:8080/",
          "height": 287
        },
        "id": "d9Yens153Crs",
        "outputId": "75aefc4b-670b-4812-f0dd-78483c336a98"
      },
      "execution_count": 42,
      "outputs": [
        {
          "output_type": "error",
          "ename": "RuntimeError",
          "evalue": "You must compile your model before training/testing. Use `model.compile(optimizer, loss)`.",
          "traceback": [
            "\u001b[0;31m---------------------------------------------------------------------------\u001b[0m",
            "\u001b[0;31mRuntimeError\u001b[0m                              Traceback (most recent call last)",
            "\u001b[0;32m<ipython-input-42-1b5ff11684bd>\u001b[0m in \u001b[0;36m<cell line: 0>\u001b[0;34m()\u001b[0m\n\u001b[0;32m----> 1\u001b[0;31m \u001b[0mbert_classifier\u001b[0m\u001b[0;34m.\u001b[0m\u001b[0mevaluate\u001b[0m\u001b[0;34m(\u001b[0m\u001b[0mglue_validation\u001b[0m\u001b[0;34m)\u001b[0m\u001b[0;34m\u001b[0m\u001b[0;34m\u001b[0m\u001b[0m\n\u001b[0m",
            "\u001b[0;32m/usr/local/lib/python3.11/dist-packages/tf_keras/src/utils/traceback_utils.py\u001b[0m in \u001b[0;36merror_handler\u001b[0;34m(*args, **kwargs)\u001b[0m\n\u001b[1;32m     68\u001b[0m             \u001b[0;31m# To get the full stack trace, call:\u001b[0m\u001b[0;34m\u001b[0m\u001b[0;34m\u001b[0m\u001b[0m\n\u001b[1;32m     69\u001b[0m             \u001b[0;31m# `tf.debugging.disable_traceback_filtering()`\u001b[0m\u001b[0;34m\u001b[0m\u001b[0;34m\u001b[0m\u001b[0m\n\u001b[0;32m---> 70\u001b[0;31m             \u001b[0;32mraise\u001b[0m \u001b[0me\u001b[0m\u001b[0;34m.\u001b[0m\u001b[0mwith_traceback\u001b[0m\u001b[0;34m(\u001b[0m\u001b[0mfiltered_tb\u001b[0m\u001b[0;34m)\u001b[0m \u001b[0;32mfrom\u001b[0m \u001b[0;32mNone\u001b[0m\u001b[0;34m\u001b[0m\u001b[0;34m\u001b[0m\u001b[0m\n\u001b[0m\u001b[1;32m     71\u001b[0m         \u001b[0;32mfinally\u001b[0m\u001b[0;34m:\u001b[0m\u001b[0;34m\u001b[0m\u001b[0;34m\u001b[0m\u001b[0m\n\u001b[1;32m     72\u001b[0m             \u001b[0;32mdel\u001b[0m \u001b[0mfiltered_tb\u001b[0m\u001b[0;34m\u001b[0m\u001b[0;34m\u001b[0m\u001b[0m\n",
            "\u001b[0;32m/usr/local/lib/python3.11/dist-packages/tf_keras/src/engine/training.py\u001b[0m in \u001b[0;36m_assert_compile_was_called\u001b[0;34m(self)\u001b[0m\n\u001b[1;32m   3976\u001b[0m         \u001b[0;31m# (i.e. whether the model is built and its inputs/outputs are set).\u001b[0m\u001b[0;34m\u001b[0m\u001b[0;34m\u001b[0m\u001b[0m\n\u001b[1;32m   3977\u001b[0m         \u001b[0;32mif\u001b[0m \u001b[0;32mnot\u001b[0m \u001b[0mself\u001b[0m\u001b[0;34m.\u001b[0m\u001b[0m_is_compiled\u001b[0m\u001b[0;34m:\u001b[0m\u001b[0;34m\u001b[0m\u001b[0;34m\u001b[0m\u001b[0m\n\u001b[0;32m-> 3978\u001b[0;31m             raise RuntimeError(\n\u001b[0m\u001b[1;32m   3979\u001b[0m                 \u001b[0;34m\"You must compile your model before \"\u001b[0m\u001b[0;34m\u001b[0m\u001b[0;34m\u001b[0m\u001b[0m\n\u001b[1;32m   3980\u001b[0m                 \u001b[0;34m\"training/testing. \"\u001b[0m\u001b[0;34m\u001b[0m\u001b[0;34m\u001b[0m\u001b[0m\n",
            "\u001b[0;31mRuntimeError\u001b[0m: You must compile your model before training/testing. Use `model.compile(optimizer, loss)`."
          ]
        }
      ]
    },
    {
      "cell_type": "code",
      "source": [
        "bert_classifier.fit(\n",
        "      glue_train,\n",
        "      validation_data=(glue_validation),\n",
        "      batch_size=32,\n",
        "      epochs=epochs)"
      ],
      "metadata": {
        "colab": {
          "base_uri": "https://localhost:8080/",
          "height": 356
        },
        "id": "1b6BBzZZ3P6j",
        "outputId": "1fdc629a-9ef9-41d3-9f23-c421f222e2ff"
      },
      "execution_count": 43,
      "outputs": [
        {
          "output_type": "error",
          "ename": "RuntimeError",
          "evalue": "You must compile your model before training/testing. Use `model.compile(optimizer, loss)`.",
          "traceback": [
            "\u001b[0;31m---------------------------------------------------------------------------\u001b[0m",
            "\u001b[0;31mRuntimeError\u001b[0m                              Traceback (most recent call last)",
            "\u001b[0;32m<ipython-input-43-fa6996ceea9c>\u001b[0m in \u001b[0;36m<cell line: 0>\u001b[0;34m()\u001b[0m\n\u001b[0;32m----> 1\u001b[0;31m bert_classifier.fit(\n\u001b[0m\u001b[1;32m      2\u001b[0m       \u001b[0mglue_train\u001b[0m\u001b[0;34m,\u001b[0m\u001b[0;34m\u001b[0m\u001b[0;34m\u001b[0m\u001b[0m\n\u001b[1;32m      3\u001b[0m       \u001b[0mvalidation_data\u001b[0m\u001b[0;34m=\u001b[0m\u001b[0;34m(\u001b[0m\u001b[0mglue_validation\u001b[0m\u001b[0;34m)\u001b[0m\u001b[0;34m,\u001b[0m\u001b[0;34m\u001b[0m\u001b[0;34m\u001b[0m\u001b[0m\n\u001b[1;32m      4\u001b[0m       \u001b[0mbatch_size\u001b[0m\u001b[0;34m=\u001b[0m\u001b[0;36m32\u001b[0m\u001b[0;34m,\u001b[0m\u001b[0;34m\u001b[0m\u001b[0;34m\u001b[0m\u001b[0m\n\u001b[1;32m      5\u001b[0m       epochs=epochs)\n",
            "\u001b[0;32m/usr/local/lib/python3.11/dist-packages/tf_keras/src/utils/traceback_utils.py\u001b[0m in \u001b[0;36merror_handler\u001b[0;34m(*args, **kwargs)\u001b[0m\n\u001b[1;32m     68\u001b[0m             \u001b[0;31m# To get the full stack trace, call:\u001b[0m\u001b[0;34m\u001b[0m\u001b[0;34m\u001b[0m\u001b[0m\n\u001b[1;32m     69\u001b[0m             \u001b[0;31m# `tf.debugging.disable_traceback_filtering()`\u001b[0m\u001b[0;34m\u001b[0m\u001b[0;34m\u001b[0m\u001b[0m\n\u001b[0;32m---> 70\u001b[0;31m             \u001b[0;32mraise\u001b[0m \u001b[0me\u001b[0m\u001b[0;34m.\u001b[0m\u001b[0mwith_traceback\u001b[0m\u001b[0;34m(\u001b[0m\u001b[0mfiltered_tb\u001b[0m\u001b[0;34m)\u001b[0m \u001b[0;32mfrom\u001b[0m \u001b[0;32mNone\u001b[0m\u001b[0;34m\u001b[0m\u001b[0;34m\u001b[0m\u001b[0m\n\u001b[0m\u001b[1;32m     71\u001b[0m         \u001b[0;32mfinally\u001b[0m\u001b[0;34m:\u001b[0m\u001b[0;34m\u001b[0m\u001b[0;34m\u001b[0m\u001b[0m\n\u001b[1;32m     72\u001b[0m             \u001b[0;32mdel\u001b[0m \u001b[0mfiltered_tb\u001b[0m\u001b[0;34m\u001b[0m\u001b[0;34m\u001b[0m\u001b[0m\n",
            "\u001b[0;32m/usr/local/lib/python3.11/dist-packages/tf_keras/src/engine/training.py\u001b[0m in \u001b[0;36m_assert_compile_was_called\u001b[0;34m(self)\u001b[0m\n\u001b[1;32m   3976\u001b[0m         \u001b[0;31m# (i.e. whether the model is built and its inputs/outputs are set).\u001b[0m\u001b[0;34m\u001b[0m\u001b[0;34m\u001b[0m\u001b[0m\n\u001b[1;32m   3977\u001b[0m         \u001b[0;32mif\u001b[0m \u001b[0;32mnot\u001b[0m \u001b[0mself\u001b[0m\u001b[0;34m.\u001b[0m\u001b[0m_is_compiled\u001b[0m\u001b[0;34m:\u001b[0m\u001b[0;34m\u001b[0m\u001b[0;34m\u001b[0m\u001b[0m\n\u001b[0;32m-> 3978\u001b[0;31m             raise RuntimeError(\n\u001b[0m\u001b[1;32m   3979\u001b[0m                 \u001b[0;34m\"You must compile your model before \"\u001b[0m\u001b[0;34m\u001b[0m\u001b[0;34m\u001b[0m\u001b[0m\n\u001b[1;32m   3980\u001b[0m                 \u001b[0;34m\"training/testing. \"\u001b[0m\u001b[0;34m\u001b[0m\u001b[0;34m\u001b[0m\u001b[0m\n",
            "\u001b[0;31mRuntimeError\u001b[0m: You must compile your model before training/testing. Use `model.compile(optimizer, loss)`."
          ]
        }
      ]
    },
    {
      "cell_type": "code",
      "source": [
        "my_examples = {\n",
        "        'sentence1':[\n",
        "            'The rain in Spain falls mainly on the plain.',\n",
        "            'Look I fine tuned BERT.'],\n",
        "        'sentence2':[\n",
        "            'It mostly rains on the flat lands of Spain.',\n",
        "            'Is it working? This does not match.']\n",
        "    }"
      ],
      "metadata": {
        "id": "kyi-m3vB3TMD"
      },
      "execution_count": 44,
      "outputs": []
    },
    {
      "cell_type": "code",
      "source": [
        "ex_packed = bert_inputs_processor(my_examples)\n",
        "my_logits = bert_classifier(ex_packed, training=False)\n",
        "\n",
        "result_cls_ids = tf.argmax(my_logits)\n",
        "result_cls_ids"
      ],
      "metadata": {
        "colab": {
          "base_uri": "https://localhost:8080/",
          "height": 373
        },
        "id": "ZPdCOiEE3XHQ",
        "outputId": "108ea8dc-23f8-48d4-8899-3a716ff3f978"
      },
      "execution_count": 45,
      "outputs": [
        {
          "output_type": "error",
          "ename": "ValueError",
          "evalue": "Only input tensors may be passed as positional arguments. The following argument value should be passed as a keyword argument: The rain in Spain falls mainly on the plain. (of type <class 'str'>)",
          "traceback": [
            "\u001b[0;31m---------------------------------------------------------------------------\u001b[0m",
            "\u001b[0;31mValueError\u001b[0m                                Traceback (most recent call last)",
            "\u001b[0;32m<ipython-input-45-a4f5a6878cc9>\u001b[0m in \u001b[0;36m<cell line: 0>\u001b[0;34m()\u001b[0m\n\u001b[0;32m----> 1\u001b[0;31m \u001b[0mex_packed\u001b[0m \u001b[0;34m=\u001b[0m \u001b[0mbert_inputs_processor\u001b[0m\u001b[0;34m(\u001b[0m\u001b[0mmy_examples\u001b[0m\u001b[0;34m)\u001b[0m\u001b[0;34m\u001b[0m\u001b[0;34m\u001b[0m\u001b[0m\n\u001b[0m\u001b[1;32m      2\u001b[0m \u001b[0mmy_logits\u001b[0m \u001b[0;34m=\u001b[0m \u001b[0mbert_classifier\u001b[0m\u001b[0;34m(\u001b[0m\u001b[0mex_packed\u001b[0m\u001b[0;34m,\u001b[0m \u001b[0mtraining\u001b[0m\u001b[0;34m=\u001b[0m\u001b[0;32mFalse\u001b[0m\u001b[0;34m)\u001b[0m\u001b[0;34m\u001b[0m\u001b[0;34m\u001b[0m\u001b[0m\n\u001b[1;32m      3\u001b[0m \u001b[0;34m\u001b[0m\u001b[0m\n\u001b[1;32m      4\u001b[0m \u001b[0mresult_cls_ids\u001b[0m \u001b[0;34m=\u001b[0m \u001b[0mtf\u001b[0m\u001b[0;34m.\u001b[0m\u001b[0margmax\u001b[0m\u001b[0;34m(\u001b[0m\u001b[0mmy_logits\u001b[0m\u001b[0;34m)\u001b[0m\u001b[0;34m\u001b[0m\u001b[0;34m\u001b[0m\u001b[0m\n\u001b[1;32m      5\u001b[0m \u001b[0mresult_cls_ids\u001b[0m\u001b[0;34m\u001b[0m\u001b[0;34m\u001b[0m\u001b[0m\n",
            "\u001b[0;32m/usr/local/lib/python3.11/dist-packages/keras/src/utils/traceback_utils.py\u001b[0m in \u001b[0;36merror_handler\u001b[0;34m(*args, **kwargs)\u001b[0m\n\u001b[1;32m    120\u001b[0m             \u001b[0;31m# To get the full stack trace, call:\u001b[0m\u001b[0;34m\u001b[0m\u001b[0;34m\u001b[0m\u001b[0m\n\u001b[1;32m    121\u001b[0m             \u001b[0;31m# `keras.config.disable_traceback_filtering()`\u001b[0m\u001b[0;34m\u001b[0m\u001b[0;34m\u001b[0m\u001b[0m\n\u001b[0;32m--> 122\u001b[0;31m             \u001b[0;32mraise\u001b[0m \u001b[0me\u001b[0m\u001b[0;34m.\u001b[0m\u001b[0mwith_traceback\u001b[0m\u001b[0;34m(\u001b[0m\u001b[0mfiltered_tb\u001b[0m\u001b[0;34m)\u001b[0m \u001b[0;32mfrom\u001b[0m \u001b[0;32mNone\u001b[0m\u001b[0;34m\u001b[0m\u001b[0;34m\u001b[0m\u001b[0m\n\u001b[0m\u001b[1;32m    123\u001b[0m         \u001b[0;32mfinally\u001b[0m\u001b[0;34m:\u001b[0m\u001b[0;34m\u001b[0m\u001b[0;34m\u001b[0m\u001b[0m\n\u001b[1;32m    124\u001b[0m             \u001b[0;32mdel\u001b[0m \u001b[0mfiltered_tb\u001b[0m\u001b[0;34m\u001b[0m\u001b[0;34m\u001b[0m\u001b[0m\n",
            "\u001b[0;32m/usr/local/lib/python3.11/dist-packages/keras/src/layers/layer.py\u001b[0m in \u001b[0;36m__call__\u001b[0;34m(self, *args, **kwargs)\u001b[0m\n\u001b[1;32m    809\u001b[0m                     \u001b[0;32mand\u001b[0m \u001b[0marg\u001b[0m \u001b[0;32mis\u001b[0m \u001b[0;32mnot\u001b[0m \u001b[0;32mNone\u001b[0m\u001b[0;34m\u001b[0m\u001b[0;34m\u001b[0m\u001b[0m\n\u001b[1;32m    810\u001b[0m                 ):\n\u001b[0;32m--> 811\u001b[0;31m                     raise ValueError(\n\u001b[0m\u001b[1;32m    812\u001b[0m                         \u001b[0;34m\"Only input tensors may be passed as \"\u001b[0m\u001b[0;34m\u001b[0m\u001b[0;34m\u001b[0m\u001b[0m\n\u001b[1;32m    813\u001b[0m                         \u001b[0;34m\"positional arguments. The following argument value \"\u001b[0m\u001b[0;34m\u001b[0m\u001b[0;34m\u001b[0m\u001b[0m\n",
            "\u001b[0;31mValueError\u001b[0m: Only input tensors may be passed as positional arguments. The following argument value should be passed as a keyword argument: The rain in Spain falls mainly on the plain. (of type <class 'str'>)"
          ]
        }
      ]
    },
    {
      "cell_type": "code",
      "source": [
        "tf.gather(tf.constant(info.features['label'].names), result_cls_ids)"
      ],
      "metadata": {
        "colab": {
          "base_uri": "https://localhost:8080/",
          "height": 141
        },
        "id": "aDDaiQft3Y68",
        "outputId": "14e5d5ed-179d-48a8-82fe-1902b8e0b51c"
      },
      "execution_count": 46,
      "outputs": [
        {
          "output_type": "error",
          "ename": "NameError",
          "evalue": "name 'result_cls_ids' is not defined",
          "traceback": [
            "\u001b[0;31m---------------------------------------------------------------------------\u001b[0m",
            "\u001b[0;31mNameError\u001b[0m                                 Traceback (most recent call last)",
            "\u001b[0;32m<ipython-input-46-549d2e36553f>\u001b[0m in \u001b[0;36m<cell line: 0>\u001b[0;34m()\u001b[0m\n\u001b[0;32m----> 1\u001b[0;31m \u001b[0mtf\u001b[0m\u001b[0;34m.\u001b[0m\u001b[0mgather\u001b[0m\u001b[0;34m(\u001b[0m\u001b[0mtf\u001b[0m\u001b[0;34m.\u001b[0m\u001b[0mconstant\u001b[0m\u001b[0;34m(\u001b[0m\u001b[0minfo\u001b[0m\u001b[0;34m.\u001b[0m\u001b[0mfeatures\u001b[0m\u001b[0;34m[\u001b[0m\u001b[0;34m'label'\u001b[0m\u001b[0;34m]\u001b[0m\u001b[0;34m.\u001b[0m\u001b[0mnames\u001b[0m\u001b[0;34m)\u001b[0m\u001b[0;34m,\u001b[0m \u001b[0mresult_cls_ids\u001b[0m\u001b[0;34m)\u001b[0m\u001b[0;34m\u001b[0m\u001b[0;34m\u001b[0m\u001b[0m\n\u001b[0m",
            "\u001b[0;31mNameError\u001b[0m: name 'result_cls_ids' is not defined"
          ]
        }
      ]
    }
  ]
}